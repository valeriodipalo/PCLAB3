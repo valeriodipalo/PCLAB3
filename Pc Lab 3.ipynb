{
 "cells": [
  {
   "cell_type": "markdown",
   "source": [
    "# Task 2\n",
    "I will include some of the steps in the task 2 to start from the proper dataset"
   ],
   "metadata": {
    "collapsed": false,
    "pycharm": {
     "name": "#%% md\n"
    }
   }
  },
  {
   "cell_type": "code",
   "execution_count": 1,
   "outputs": [],
   "source": [
    "#import statements\n",
    "import pandas as pd\n",
    "import re\n",
    "import spacy\n",
    "nlp = spacy.load('en_core_web_sm')\n",
    "from nltk.corpus import stopwords"
   ],
   "metadata": {
    "collapsed": false,
    "pycharm": {
     "name": "#%%\n"
    }
   }
  },
  {
   "cell_type": "code",
   "execution_count": 2,
   "outputs": [],
   "source": [
    "data = pd.read_csv('Data/Data_PCLab3_Twitter_Stock_Sentiment.csv')"
   ],
   "metadata": {
    "collapsed": false,
    "pycharm": {
     "name": "#%%\n"
    }
   }
  },
  {
   "cell_type": "code",
   "execution_count": 3,
   "outputs": [],
   "source": [
    "import functions\n",
    "data = functions.word_count_col(data,'Text','pre_word_count')"
   ],
   "metadata": {
    "collapsed": false,
    "pycharm": {
     "name": "#%%\n"
    }
   }
  },
  {
   "cell_type": "code",
   "execution_count": 4,
   "outputs": [],
   "source": [
    "documents = data[\"Text\"].tolist()"
   ],
   "metadata": {
    "collapsed": false,
    "pycharm": {
     "name": "#%%\n"
    }
   }
  },
  {
   "cell_type": "code",
   "execution_count": 5,
   "outputs": [
    {
     "name": "stdout",
     "output_type": "stream",
     "text": [
      "CPU times: user 19.3 s, sys: 222 ms, total: 19.5 s\n",
      "Wall time: 19.6 s\n"
     ]
    }
   ],
   "source": [
    "%time clean_des = [functions.preprocess(string) for string in documents[:]]"
   ],
   "metadata": {
    "collapsed": false,
    "pycharm": {
     "name": "#%%\n"
    }
   }
  },
  {
   "cell_type": "code",
   "execution_count": 8,
   "outputs": [],
   "source": [
    "data['clean_text'] = clean_des\n",
    "data = functions.word_count_col(data,'clean_text','post_word_count')"
   ],
   "metadata": {
    "collapsed": false,
    "pycharm": {
     "name": "#%%\n"
    }
   }
  },
  {
   "cell_type": "code",
   "execution_count": 9,
   "outputs": [
    {
     "data": {
      "text/plain": "                                                   Text  Sentiment  \\\n0     Kickers on my watchlist XIDE TIT SOQ PNK CPW B...          1   \n1     user: AAP MOVIE. 55% return for the FEA/GEED i...          1   \n2     user I'd be afraid to short AMZN - they are lo...          1   \n3                                     MNTA Over 12.00            1   \n4                                      OI  Over 21.37            1   \n...                                                 ...        ...   \n5786  Industry body CII said #discoms are likely to ...          0   \n5787  #Gold prices slip below Rs 46,000 as #investor...          0   \n5788  Workers at Bajaj Auto have agreed to a 10% wag...          1   \n5789  #Sharemarket LIVE: Sensex off day’s high, up 6...          1   \n5790  #Sensex, #Nifty climb off day's highs, still u...          1   \n\n      word_count                                         clean_text  \\\n0             20  kicker watchlist xide tit soq pnk cpw bpz aj t...   \n1             16  aap movie return fea geed indicator trade year...   \n2             18  afraid short amzn look like near monopoly eboo...   \n3              3                                          mnta over   \n4              3                                            oi over   \n...          ...                                                ...   \n5786          19  industry body cii say discom likely suffer net...   \n5787          15  gold price slip below rs investor book profit ...   \n5788          24  worker bajaj auto agree wage cut period april ...   \n5789          18  sharemarket live sensex day high point nifty t...   \n5790          16  sensex nifty climb day high still key factor d...   \n\n      post_word_count  \n0                  15  \n1                   9  \n2                  10  \n3                   2  \n4                   2  \n...               ...  \n5786               13  \n5787               13  \n5788               11  \n5789               13  \n5790               12  \n\n[5791 rows x 5 columns]",
      "text/html": "<div>\n<style scoped>\n    .dataframe tbody tr th:only-of-type {\n        vertical-align: middle;\n    }\n\n    .dataframe tbody tr th {\n        vertical-align: top;\n    }\n\n    .dataframe thead th {\n        text-align: right;\n    }\n</style>\n<table border=\"1\" class=\"dataframe\">\n  <thead>\n    <tr style=\"text-align: right;\">\n      <th></th>\n      <th>Text</th>\n      <th>Sentiment</th>\n      <th>word_count</th>\n      <th>clean_text</th>\n      <th>post_word_count</th>\n    </tr>\n  </thead>\n  <tbody>\n    <tr>\n      <th>0</th>\n      <td>Kickers on my watchlist XIDE TIT SOQ PNK CPW B...</td>\n      <td>1</td>\n      <td>20</td>\n      <td>kicker watchlist xide tit soq pnk cpw bpz aj t...</td>\n      <td>15</td>\n    </tr>\n    <tr>\n      <th>1</th>\n      <td>user: AAP MOVIE. 55% return for the FEA/GEED i...</td>\n      <td>1</td>\n      <td>16</td>\n      <td>aap movie return fea geed indicator trade year...</td>\n      <td>9</td>\n    </tr>\n    <tr>\n      <th>2</th>\n      <td>user I'd be afraid to short AMZN - they are lo...</td>\n      <td>1</td>\n      <td>18</td>\n      <td>afraid short amzn look like near monopoly eboo...</td>\n      <td>10</td>\n    </tr>\n    <tr>\n      <th>3</th>\n      <td>MNTA Over 12.00</td>\n      <td>1</td>\n      <td>3</td>\n      <td>mnta over</td>\n      <td>2</td>\n    </tr>\n    <tr>\n      <th>4</th>\n      <td>OI  Over 21.37</td>\n      <td>1</td>\n      <td>3</td>\n      <td>oi over</td>\n      <td>2</td>\n    </tr>\n    <tr>\n      <th>...</th>\n      <td>...</td>\n      <td>...</td>\n      <td>...</td>\n      <td>...</td>\n      <td>...</td>\n    </tr>\n    <tr>\n      <th>5786</th>\n      <td>Industry body CII said #discoms are likely to ...</td>\n      <td>0</td>\n      <td>19</td>\n      <td>industry body cii say discom likely suffer net...</td>\n      <td>13</td>\n    </tr>\n    <tr>\n      <th>5787</th>\n      <td>#Gold prices slip below Rs 46,000 as #investor...</td>\n      <td>0</td>\n      <td>15</td>\n      <td>gold price slip below rs investor book profit ...</td>\n      <td>13</td>\n    </tr>\n    <tr>\n      <th>5788</th>\n      <td>Workers at Bajaj Auto have agreed to a 10% wag...</td>\n      <td>1</td>\n      <td>24</td>\n      <td>worker bajaj auto agree wage cut period april ...</td>\n      <td>11</td>\n    </tr>\n    <tr>\n      <th>5789</th>\n      <td>#Sharemarket LIVE: Sensex off day’s high, up 6...</td>\n      <td>1</td>\n      <td>18</td>\n      <td>sharemarket live sensex day high point nifty t...</td>\n      <td>13</td>\n    </tr>\n    <tr>\n      <th>5790</th>\n      <td>#Sensex, #Nifty climb off day's highs, still u...</td>\n      <td>1</td>\n      <td>16</td>\n      <td>sensex nifty climb day high still key factor d...</td>\n      <td>12</td>\n    </tr>\n  </tbody>\n</table>\n<p>5791 rows × 5 columns</p>\n</div>"
     },
     "execution_count": 9,
     "metadata": {},
     "output_type": "execute_result"
    }
   ],
   "source": [
    "data\n"
   ],
   "metadata": {
    "collapsed": false,
    "pycharm": {
     "name": "#%%\n"
    }
   }
  },
  {
   "cell_type": "markdown",
   "source": [
    "# Task 3\n"
   ],
   "metadata": {
    "collapsed": false,
    "pycharm": {
     "name": "#%% md\n"
    }
   }
  },
  {
   "cell_type": "code",
   "execution_count": 13,
   "outputs": [
    {
     "data": {
      "text/plain": "count    5791.000000\nmean        8.700052\nstd         4.057318\nmin         1.000000\n25%         5.000000\n50%         9.000000\n75%        12.000000\nmax        23.000000\nName: post_word_count, dtype: float64"
     },
     "execution_count": 13,
     "metadata": {},
     "output_type": "execute_result"
    }
   ],
   "source": [
    "data.post_word_count.describe()\n"
   ],
   "metadata": {
    "collapsed": false,
    "pycharm": {
     "name": "#%%\n"
    }
   }
  },
  {
   "cell_type": "code",
   "execution_count": null,
   "outputs": [],
   "source": [
    "# Padding\n",
    "max_len = max([len(x) for x in text_tokenizer]\n"
   ],
   "metadata": {
    "collapsed": false,
    "pycharm": {
     "name": "#%%\n"
    }
   }
  }
 ],
 "metadata": {
  "kernelspec": {
   "display_name": "Python 3",
   "language": "python",
   "name": "python3"
  },
  "language_info": {
   "codemirror_mode": {
    "name": "ipython",
    "version": 2
   },
   "file_extension": ".py",
   "mimetype": "text/x-python",
   "name": "python",
   "nbconvert_exporter": "python",
   "pygments_lexer": "ipython2",
   "version": "2.7.6"
  }
 },
 "nbformat": 4,
 "nbformat_minor": 0
}